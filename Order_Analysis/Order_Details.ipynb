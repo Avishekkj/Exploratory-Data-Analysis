{
 "cells": [
  {
   "cell_type": "code",
   "execution_count": 2,
   "id": "7a248b20-3df7-4776-92a1-e5df1b44076b",
   "metadata": {},
   "outputs": [
    {
     "name": "stdout",
     "output_type": "stream",
     "text": [
      "Collecting pymysql\n",
      "  Downloading PyMySQL-1.1.1-py3-none-any.whl.metadata (4.4 kB)\n",
      "Downloading PyMySQL-1.1.1-py3-none-any.whl (44 kB)\n",
      "Installing collected packages: pymysql\n",
      "Successfully installed pymysql-1.1.1\n"
     ]
    }
   ],
   "source": [
    " !pip install pymysql"
   ]
  },
  {
   "cell_type": "code",
   "execution_count": 173,
   "id": "e5a77465-9225-400a-aa55-8cf32d23ba26",
   "metadata": {},
   "outputs": [],
   "source": [
    "import pandas as pd\n",
    "import numpy as np\n",
    "from sqlalchemy import create_engine"
   ]
  },
  {
   "cell_type": "code",
   "execution_count": 14,
   "id": "4d450330-7597-4274-83af-1fe9db271da2",
   "metadata": {},
   "outputs": [],
   "source": [
    "import pymysql\n",
    "\n",
    "host = \"pythonsql.cvwyoskgmxtl.ap-southeast-2.rds.amazonaws.com\"\n",
    "port = 3306\n",
    "user = \"admin\"  # Replace with your RDS username\n",
    "password = \"Pysql2025\"  # Replace with your RDS password\n",
    "database = \"your-database-name\"  # Replace with your DB nameabase = \"your-database-name\"  # Replace with actual database name\n",
    "\n",
    "\n",
    "# Connect to MySQL without specifying a database\n",
    "conn = pymysql.connect(\n",
    "    host=host,\n",
    "    port=port,\n",
    "    user=user,\n",
    "    password=password\n",
    ")\n",
    "\n",
    "cursor = conn.cursor()\n",
    "\n"
   ]
  },
  {
   "cell_type": "code",
   "execution_count": 20,
   "id": "6aa3cc8b-c592-4945-a908-0acc85aa52d5",
   "metadata": {},
   "outputs": [
    {
     "name": "stdout",
     "output_type": "stream",
     "text": [
      "Downloading from https://www.kaggle.com/api/v1/datasets/download/ankitbansal06/retail-orders?dataset_version_number=4...\n"
     ]
    },
    {
     "name": "stderr",
     "output_type": "stream",
     "text": [
      "100%|█████████████████████████████████████████| 200k/200k [00:00<00:00, 653kB/s]"
     ]
    },
    {
     "name": "stdout",
     "output_type": "stream",
     "text": [
      "Extracting files...\n",
      "Path to dataset files: /Users/avishekjha/.cache/kagglehub/datasets/ankitbansal06/retail-orders/versions/4\n"
     ]
    },
    {
     "name": "stderr",
     "output_type": "stream",
     "text": [
      "\n"
     ]
    }
   ],
   "source": [
    "import kagglehub\n",
    "\n",
    "# Download latest version\n",
    "path = kagglehub.dataset_download(\"ankitbansal06/retail-orders\")\n",
    "\n",
    "print(\"Path to dataset files:\", path)"
   ]
  },
  {
   "cell_type": "code",
   "execution_count": 22,
   "id": "2fd60ce4-bb5a-4372-93a7-4f11d2929ec9",
   "metadata": {},
   "outputs": [
    {
     "name": "stdout",
     "output_type": "stream",
     "text": [
      "File moved to /Users/avishekjha/Downloads/4\n"
     ]
    }
   ],
   "source": [
    "import shutil\n",
    "import os\n",
    "\n",
    "# Define the source and destination paths\n",
    "source_path = '/Users/avishekjha/.cache/kagglehub/datasets/ankitbansal06/retail-orders/versions/4'\n",
    "destination_folder = os.path.expanduser('~/Downloads')\n",
    "\n",
    "# Get the file name from the source path\n",
    "file_name = os.path.basename(source_path)\n",
    "\n",
    "# Define the destination path\n",
    "destination_path = os.path.join(destination_folder, file_name)\n",
    "\n",
    "# Move the file\n",
    "shutil.move(source_path, destination_path)\n",
    "\n",
    "print(f\"File moved to {destination_path}\")\n"
   ]
  },
  {
   "cell_type": "code",
   "execution_count": 34,
   "id": "132b8d12-9595-4dfa-89df-92ac5dd32a1e",
   "metadata": {},
   "outputs": [],
   "source": [
    "data = pd.read_csv(\"/Users/avishekjha/Downloads/4/orders.csv\")"
   ]
  },
  {
   "cell_type": "code",
   "execution_count": 65,
   "id": "8131b6bf-83c1-4e2a-bf3d-ca8d4c891201",
   "metadata": {},
   "outputs": [
    {
     "data": {
      "text/plain": [
       "(9994, 16)"
      ]
     },
     "execution_count": 65,
     "metadata": {},
     "output_type": "execute_result"
    }
   ],
   "source": [
    "data.shape"
   ]
  },
  {
   "cell_type": "code",
   "execution_count": 125,
   "id": "d2a970c0-c487-4b84-92e2-275d1b81cab9",
   "metadata": {},
   "outputs": [
    {
     "data": {
      "text/plain": [
       "Index(['orderid', 'orderdate', 'shipmode', 'segment', 'country', 'city',\n",
       "       'state', 'postalcode', 'region', 'category', 'subcategory', 'productid',\n",
       "       'costprice', 'listprice', 'quantity', 'discountpercent'],\n",
       "      dtype='object')"
      ]
     },
     "execution_count": 125,
     "metadata": {},
     "output_type": "execute_result"
    }
   ],
   "source": [
    "data.columns"
   ]
  },
  {
   "cell_type": "code",
   "execution_count": 97,
   "id": "a262995b-34c4-44bb-be8d-79cda04c8f3e",
   "metadata": {},
   "outputs": [],
   "source": [
    "data.columns = data.columns.str.replace(' ', '')"
   ]
  },
  {
   "cell_type": "code",
   "execution_count": 123,
   "id": "c3b273d4-c750-40f6-9ec0-9b6367312e0f",
   "metadata": {},
   "outputs": [],
   "source": [
    "data.columns= data.columns.str.lower()"
   ]
  },
  {
   "cell_type": "code",
   "execution_count": 93,
   "id": "465dd8f9-8f6e-4113-af56-626581fb7111",
   "metadata": {},
   "outputs": [
    {
     "data": {
      "text/plain": [
       "array(['Second Class', 'Standard Class', 'Not Available', 'unknown',\n",
       "       'First Class', nan, 'Same Day'], dtype=object)"
      ]
     },
     "execution_count": 93,
     "metadata": {},
     "output_type": "execute_result"
    }
   ],
   "source": [
    "data['Ship Mode'].unique()"
   ]
  },
  {
   "cell_type": "code",
   "execution_count": 103,
   "id": "f6207c37-8489-4956-9dca-2dcca460385f",
   "metadata": {},
   "outputs": [
    {
     "data": {
      "text/plain": [
       "array(['Second Class', 'Standard Class', 'Not Available', 'unknown',\n",
       "       'First Class', nan, 'Same Day'], dtype=object)"
      ]
     },
     "execution_count": 103,
     "metadata": {},
     "output_type": "execute_result"
    }
   ],
   "source": [
    "data.ShipMode.unique()"
   ]
  },
  {
   "cell_type": "code",
   "execution_count": 113,
   "id": "6b102de3-0d63-4513-9b51-70bfdde2f0c0",
   "metadata": {},
   "outputs": [],
   "source": [
    "data['ShipMode'] =data['ShipMode'].replace(['Not Available', 'unknown'],np.nan)"
   ]
  },
  {
   "cell_type": "code",
   "execution_count": 135,
   "id": "112d63c8-75e3-412d-866f-20a63f0622fe",
   "metadata": {},
   "outputs": [],
   "source": [
    "data['discount']=data['costprice']*data['discountpercent']*.01"
   ]
  },
  {
   "cell_type": "code",
   "execution_count": 139,
   "id": "91ee095b-b2dd-438c-b7e3-2db0f63f9e5f",
   "metadata": {},
   "outputs": [],
   "source": [
    "data['saleprice']=data['listprice']-data['discount']"
   ]
  },
  {
   "cell_type": "code",
   "execution_count": 143,
   "id": "50067644-7296-4886-b780-3a2b55aeac23",
   "metadata": {},
   "outputs": [],
   "source": [
    "data['profit']= data['saleprice']-data['costprice']"
   ]
  },
  {
   "cell_type": "code",
   "execution_count": 151,
   "id": "13303b03-daf0-4a86-8933-603d3962e731",
   "metadata": {},
   "outputs": [],
   "source": [
    "data.drop(columns=['costprice', 'discountpercent', 'listprice'],inplace=True)"
   ]
  },
  {
   "cell_type": "code",
   "execution_count": 165,
   "id": "1adfde2b-4a2f-44ed-bed0-948e96ad2efb",
   "metadata": {},
   "outputs": [],
   "source": [
    "data['orderdate']=pd.to_datetime(data['orderdate'])"
   ]
  },
  {
   "cell_type": "code",
   "execution_count": 200,
   "id": "88432473-9c26-43c3-a1c4-65d184b2f2ee",
   "metadata": {},
   "outputs": [
    {
     "data": {
      "text/plain": [
       "orderid                 int64\n",
       "orderdate      datetime64[ns]\n",
       "shipmode               object\n",
       "segment                object\n",
       "country                object\n",
       "city                   object\n",
       "state                  object\n",
       "postalcode              int64\n",
       "region                 object\n",
       "category               object\n",
       "subcategory            object\n",
       "productid              object\n",
       "quantity                int64\n",
       "discount              float64\n",
       "saleprice             float64\n",
       "profit                float64\n",
       "dtype: object"
      ]
     },
     "execution_count": 200,
     "metadata": {},
     "output_type": "execute_result"
    }
   ],
   "source": [
    "data.dtypes"
   ]
  },
  {
   "cell_type": "code",
   "execution_count": 202,
   "id": "2b728f20-3985-48a0-a45d-9df44d84253a",
   "metadata": {},
   "outputs": [
    {
     "data": {
      "text/plain": [
       "9994"
      ]
     },
     "execution_count": 202,
     "metadata": {},
     "output_type": "execute_result"
    }
   ],
   "source": [
    "\n",
    "\n",
    "# Your RDS details\n",
    "host = \"pythonsql.cvwyoskgmxtl.ap-southeast-2.rds.amazonaws.com\"\n",
    "port = 3306\n",
    "user = \"admin\"  # Replace with your RDS username\n",
    "password = \"Pysql2025\"  # Replace with your RDS password\n",
    "database = \"EDAProject\"  # Replace with your database name\n",
    "\n",
    "# Create a connection string\n",
    "connection_str = f\"mysql+pymysql://{user}:{password}@{host}:{port}/{database}\"\n",
    "\n",
    "# Create a SQLAlchemy engine\n",
    "engine = create_engine(connection_str)\n",
    "\n",
    "# Assuming 'data' is your pandas DataFrame\n",
    "# Replace the name of the table if it's different\n",
    "table_name = \"ORDERS\"  # Replace with the name of your table\n",
    "\n",
    "# Load the DataFrame into the MySQL table\n",
    "data.to_sql(table_name, con=engine, if_exists='append', index=False)  # Change 'replace' to 'append' if you don't want to overwrite\n"
   ]
  },
  {
   "cell_type": "code",
   "execution_count": null,
   "id": "6785f0b2-cfe4-4fee-9cca-d27b33119111",
   "metadata": {},
   "outputs": [],
   "source": []
  }
 ],
 "metadata": {
  "kernelspec": {
   "display_name": "Python [conda env:base] *",
   "language": "python",
   "name": "conda-base-py"
  },
  "language_info": {
   "codemirror_mode": {
    "name": "ipython",
    "version": 3
   },
   "file_extension": ".py",
   "mimetype": "text/x-python",
   "name": "python",
   "nbconvert_exporter": "python",
   "pygments_lexer": "ipython3",
   "version": "3.12.7"
  }
 },
 "nbformat": 4,
 "nbformat_minor": 5
}
